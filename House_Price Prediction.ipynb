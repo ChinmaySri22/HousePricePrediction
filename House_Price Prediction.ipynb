{
 "cells": [
  {
   "cell_type": "code",
   "execution_count": 12,
   "id": "65dc953e-b4bb-4ee4-9aef-ade0735727cf",
   "metadata": {},
   "outputs": [],
   "source": [
    "import pandas as pd\n",
    "from sklearn.linear_model import LinearRegression\n",
    "\n",
    "# Load the data into a pandas dataframe\n",
    "data = pd.read_csv('train.csv')"
   ]
  },
  {
   "cell_type": "code",
   "execution_count": 13,
   "id": "2deb0c04-481e-48fd-8abd-3214bab60c98",
   "metadata": {},
   "outputs": [
    {
     "name": "stdout",
     "output_type": "stream",
     "text": [
      "Coefficients:  [   107.04103873 -27861.45842295  26337.60215196]\n",
      "Intercept:  52305.361941846524\n"
     ]
    }
   ],
   "source": [
    "# Extract the relevant features\n",
    "X = data[['GrLivArea', 'BedroomAbvGr', 'FullBath', 'HalfBath']]\n",
    "y = data['SalePrice']\n",
    "\n",
    "X = X.copy()\n",
    "X['TotalBath'] = X['FullBath'] + 0.5 * X['HalfBath']\n",
    "X = X[['GrLivArea', 'BedroomAbvGr', 'TotalBath']]\n",
    "\n",
    "model = LinearRegression()\n",
    "\n",
    "model.fit(X, y)\n",
    "\n",
    "print('Coefficients: ', model.coef_)\n",
    "print('Intercept: ', model.intercept_)"
   ]
  },
  {
   "cell_type": "code",
   "execution_count": 14,
   "id": "c2025b43-e1d5-47d1-9ccc-04348645b55a",
   "metadata": {},
   "outputs": [
    {
     "name": "stdout",
     "output_type": "stream",
     "text": [
      "Predicted price: $ 220785\n"
     ]
    }
   ],
   "source": [
    "# If you will change the values of these it will predict the house price accordingly\n",
    "\n",
    "#GrLivArea: \"Above Grade (Ground) Living Area\" and refers to the total square footage of all the floors\n",
    "#BedroomAbvGr: \"Number of bedrooms above ground level\" \n",
    "#TotalBath: \"Number of full bathrooms(FullBath) + Number of half bathrooms(HalfBath)\"\n",
    "\n",
    "new_data = pd.DataFrame({'GrLivArea': [2000], \n",
    "                         'BedroomAbvGr': [4], \n",
    "                         'TotalBath': [2.5]})\n",
    "\n",
    "predicted_price = model.predict(new_data)\n",
    "\n",
    "print('Predicted price: $', int(predicted_price[0]))"
   ]
  },
  {
   "cell_type": "code",
   "execution_count": null,
   "id": "b42c6546-76b1-4f0e-a4e1-7753d4d9f70c",
   "metadata": {},
   "outputs": [],
   "source": []
  }
 ],
 "metadata": {
  "kernelspec": {
   "display_name": "Python 3 (ipykernel)",
   "language": "python",
   "name": "python3"
  },
  "language_info": {
   "codemirror_mode": {
    "name": "ipython",
    "version": 3
   },
   "file_extension": ".py",
   "mimetype": "text/x-python",
   "name": "python",
   "nbconvert_exporter": "python",
   "pygments_lexer": "ipython3",
   "version": "3.12.2"
  }
 },
 "nbformat": 4,
 "nbformat_minor": 5
}
